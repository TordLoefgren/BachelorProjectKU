{
 "cells": [
  {
   "cell_type": "code",
   "execution_count": null,
   "id": "3266778b",
   "metadata": {},
   "outputs": [],
   "source": [
    "import os\n",
    "import sys\n",
    "\n",
    "sys.path.append(os.path.abspath(os.path.join(\"..\"))) \n",
    "\n",
    "from benchmarks import create_encoder_roundtrip_benchmarks\n",
    "from constants import BenchmarkParameters, BENCHMARKS_ALL_EAGER_PATH, BENCHMARKS_STRONG_SCALING_LAZY_PATH, BENCHMARKS_WEAK_SCALING_LAZY_PATH, BENCHMARKS_WEAK_SCALING_EAGER_PATH, BENCHMARKS_STRONG_SCALING_EAGER_PATH"
   ]
  },
  {
   "cell_type": "code",
   "execution_count": null,
   "id": "208d4ab0",
   "metadata": {},
   "outputs": [],
   "source": [
    "create_encoder_roundtrip_benchmarks(\n",
    "    BENCHMARKS_ALL_EAGER_PATH, \n",
    "    benchmark_parameters=BenchmarkParameters.all(), \n",
    "    eager=True\n",
    ")"
   ]
  },
  {
   "cell_type": "code",
   "execution_count": null,
   "id": "4cdeab74",
   "metadata": {},
   "outputs": [],
   "source": [
    "create_encoder_roundtrip_benchmarks(\n",
    "    BENCHMARKS_STRONG_SCALING_EAGER_PATH, \n",
    "    benchmark_parameters=BenchmarkParameters.strong_scaling(), \n",
    "    eager=True, \n",
    "    save_every_n=1\n",
    ")"
   ]
  },
  {
   "cell_type": "code",
   "execution_count": null,
   "id": "cb7ee40a",
   "metadata": {},
   "outputs": [],
   "source": [
    "create_encoder_roundtrip_benchmarks(\n",
    "    BENCHMARKS_WEAK_SCALING_EAGER_PATH, \n",
    "    benchmark_parameters=BenchmarkParameters.weak_scaling(), \n",
    "    eager=True, \n",
    "    save_every_n=1\n",
    ")"
   ]
  },
  {
   "cell_type": "code",
   "execution_count": null,
   "id": "03f7f4d0",
   "metadata": {},
   "outputs": [],
   "source": [
    "create_encoder_roundtrip_benchmarks(\n",
    "    BENCHMARKS_STRONG_SCALING_LAZY_PATH, \n",
    "    benchmark_parameters=BenchmarkParameters.strong_scaling(), \n",
    "    eager=False, \n",
    "    save_every_n=1\n",
    ")"
   ]
  },
  {
   "cell_type": "code",
   "execution_count": null,
   "id": "ecc42bcb",
   "metadata": {},
   "outputs": [],
   "source": [
    "create_encoder_roundtrip_benchmarks(\n",
    "    BENCHMARKS_WEAK_SCALING_LAZY_PATH, \n",
    "    benchmark_parameters=BenchmarkParameters.weak_scaling(), \n",
    "    eager=False, \n",
    "    save_every_n=1\n",
    ")"
   ]
  }
 ],
 "metadata": {
  "kernelspec": {
   "display_name": ".venv",
   "language": "python",
   "name": "python3"
  },
  "language_info": {
   "codemirror_mode": {
    "name": "ipython",
    "version": 3
   },
   "file_extension": ".py",
   "mimetype": "text/x-python",
   "name": "python",
   "nbconvert_exporter": "python",
   "pygments_lexer": "ipython3",
   "version": "3.12.4"
  }
 },
 "nbformat": 4,
 "nbformat_minor": 5
}
