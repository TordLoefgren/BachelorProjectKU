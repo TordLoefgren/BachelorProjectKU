{
 "cells": [
  {
   "cell_type": "code",
   "execution_count": null,
   "id": "3266778b",
   "metadata": {},
   "outputs": [],
   "source": [
    "import os\n",
    "import sys\n",
    "import pandas as pd\n",
    "sys.path.append(os.path.abspath(os.path.join(\"..\"))) \n",
    "\n",
    "from benchmarks import create_encoder_roundtrip_benchmarks\n",
    "from constants import BenchmarkParameters, BENCHMARKS_STRONG_SCALING_LAZY_WITH_RESULT_PATH, BENCHMARKS_WEAK_SCALING_LAZY_WITH_RESULT_PATH, ROUNDTRIP_SUCCESS_HEADER, BENCHMARKS_ALL_EAGER_PATH, BENCHMARKS_ALL_EAGER_WITH_RESULT_PATH, BENCHMARKS_STRONG_SCALING_LAZY_PATH, BENCHMARKS_WEAK_SCALING_LAZY_PATH, BENCHMARKS_WEAK_SCALING_EAGER_PATH, BENCHMARKS_STRONG_SCALING_EAGER_PATH"
   ]
  },
  {
   "cell_type": "code",
   "execution_count": null,
   "id": "afcbcfea",
   "metadata": {},
   "outputs": [],
   "source": [
    "df_all = pd.read_csv(BENCHMARKS_ALL_EAGER_WITH_RESULT_PATH)\n",
    "df_strong = pd.read_csv(BENCHMARKS_STRONG_SCALING_LAZY_WITH_RESULT_PATH)\n",
    "df_weak = pd.read_csv(BENCHMARKS_WEAK_SCALING_LAZY_WITH_RESULT_PATH)\n",
    "\n",
    "n_success = (df_all[ROUNDTRIP_SUCCESS_HEADER] == True).sum() + (df_strong[ROUNDTRIP_SUCCESS_HEADER] == True).sum() + (df_weak[ROUNDTRIP_SUCCESS_HEADER] == True).sum()\n",
    "n_entries = len(df_all) + len(df_strong) + len(df_weak)\n",
    "\n",
    "print(f\"Roundtrip success rate: {n_success} / {n_entries} ({n_success / n_entries * 100:.2f}%)\")"
   ]
  },
  {
   "cell_type": "code",
   "execution_count": null,
   "id": "208d4ab0",
   "metadata": {},
   "outputs": [],
   "source": [
    "create_encoder_roundtrip_benchmarks(\n",
    "    BENCHMARKS_ALL_EAGER_PATH, \n",
    "    benchmark_parameters=BenchmarkParameters.all(), \n",
    "    eager=True,\n",
    "    save_every_n=1\n",
    ")"
   ]
  },
  {
   "cell_type": "code",
   "execution_count": null,
   "id": "6218ffd8",
   "metadata": {},
   "outputs": [],
   "source": [
    "create_encoder_roundtrip_benchmarks(\n",
    "    BENCHMARKS_ALL_EAGER_WITH_RESULT_PATH, \n",
    "    benchmark_parameters=BenchmarkParameters.all(), \n",
    "    eager=True,\n",
    "    save_every_n=1\n",
    ")"
   ]
  },
  {
   "cell_type": "code",
   "execution_count": null,
   "id": "4cdeab74",
   "metadata": {},
   "outputs": [],
   "source": [
    "create_encoder_roundtrip_benchmarks(\n",
    "    BENCHMARKS_STRONG_SCALING_EAGER_PATH, \n",
    "    benchmark_parameters=BenchmarkParameters.strong_scaling(), \n",
    "    eager=True, \n",
    "    save_every_n=1\n",
    ")"
   ]
  },
  {
   "cell_type": "code",
   "execution_count": null,
   "id": "cb7ee40a",
   "metadata": {},
   "outputs": [],
   "source": [
    "create_encoder_roundtrip_benchmarks(\n",
    "    BENCHMARKS_WEAK_SCALING_EAGER_PATH, \n",
    "    benchmark_parameters=BenchmarkParameters.weak_scaling(), \n",
    "    eager=True, \n",
    "    save_every_n=1\n",
    ")"
   ]
  },
  {
   "cell_type": "code",
   "execution_count": null,
   "id": "03f7f4d0",
   "metadata": {},
   "outputs": [],
   "source": [
    "create_encoder_roundtrip_benchmarks(\n",
    "    BENCHMARKS_STRONG_SCALING_LAZY_PATH, \n",
    "    benchmark_parameters=BenchmarkParameters.strong_scaling(), \n",
    "    eager=False, \n",
    "    save_every_n=1\n",
    ")"
   ]
  },
  {
   "cell_type": "code",
   "execution_count": null,
   "id": "ecc42bcb",
   "metadata": {},
   "outputs": [],
   "source": [
    "create_encoder_roundtrip_benchmarks(\n",
    "    BENCHMARKS_WEAK_SCALING_LAZY_PATH, \n",
    "    benchmark_parameters=BenchmarkParameters.weak_scaling(), \n",
    "    eager=False, \n",
    "    save_every_n=1\n",
    ")"
   ]
  },
  {
   "cell_type": "code",
   "execution_count": null,
   "id": "66a9473f",
   "metadata": {},
   "outputs": [],
   "source": [
    "create_encoder_roundtrip_benchmarks(\n",
    "    BENCHMARKS_WEAK_SCALING_LAZY_WITH_RESULT_PATH, \n",
    "    benchmark_parameters=BenchmarkParameters.weak_scaling(), \n",
    "    eager=False, \n",
    "    save_every_n=1\n",
    ")"
   ]
  },
  {
   "cell_type": "code",
   "execution_count": null,
   "id": "a7a66733",
   "metadata": {},
   "outputs": [],
   "source": [
    "create_encoder_roundtrip_benchmarks(\n",
    "    BENCHMARKS_STRONG_SCALING_LAZY_WITH_RESULT_PATH, \n",
    "    benchmark_parameters=BenchmarkParameters.strong_scaling(), \n",
    "    eager=False, \n",
    "    save_every_n=1\n",
    ")"
   ]
  }
 ],
 "metadata": {
  "kernelspec": {
   "display_name": ".venv",
   "language": "python",
   "name": "python3"
  },
  "language_info": {
   "codemirror_mode": {
    "name": "ipython",
    "version": 3
   },
   "file_extension": ".py",
   "mimetype": "text/x-python",
   "name": "python",
   "nbconvert_exporter": "python",
   "pygments_lexer": "ipython3",
   "version": "3.12.4"
  }
 },
 "nbformat": 4,
 "nbformat_minor": 5
}
